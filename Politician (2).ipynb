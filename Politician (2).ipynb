{
 "cells": [
  {
   "cell_type": "code",
   "execution_count": 1,
   "metadata": {
    "colab": {
     "base_uri": "https://localhost:8080/",
     "height": 467
    },
    "id": "aXq3HoAu7wd5",
    "outputId": "adbab839-c940-4f80-c2fb-4f30310bba6f"
   },
   "outputs": [
    {
     "data": {
      "text/html": [
       "<div>\n",
       "<style scoped>\n",
       "    .dataframe tbody tr th:only-of-type {\n",
       "        vertical-align: middle;\n",
       "    }\n",
       "\n",
       "    .dataframe tbody tr th {\n",
       "        vertical-align: top;\n",
       "    }\n",
       "\n",
       "    .dataframe thead th {\n",
       "        text-align: right;\n",
       "    }\n",
       "</style>\n",
       "<table border=\"1\" class=\"dataframe\">\n",
       "  <thead>\n",
       "    <tr style=\"text-align: right;\">\n",
       "      <th></th>\n",
       "      <th>0</th>\n",
       "      <th>1</th>\n",
       "      <th>2</th>\n",
       "      <th>3</th>\n",
       "      <th>4</th>\n",
       "      <th>5</th>\n",
       "      <th>6</th>\n",
       "      <th>7</th>\n",
       "      <th>8</th>\n",
       "      <th>9</th>\n",
       "      <th>10</th>\n",
       "      <th>11</th>\n",
       "      <th>12</th>\n",
       "      <th>13</th>\n",
       "      <th>14</th>\n",
       "      <th>15</th>\n",
       "    </tr>\n",
       "  </thead>\n",
       "  <tbody>\n",
       "    <tr>\n",
       "      <th>0</th>\n",
       "      <td>-0.004742</td>\n",
       "      <td>0.195250</td>\n",
       "      <td>0.462723</td>\n",
       "      <td>0.504912</td>\n",
       "      <td>-0.346100</td>\n",
       "      <td>0.240062</td>\n",
       "      <td>-0.335112</td>\n",
       "      <td>0.344381</td>\n",
       "      <td>0.023588</td>\n",
       "      <td>-0.332543</td>\n",
       "      <td>-0.486879</td>\n",
       "      <td>0.232037</td>\n",
       "      <td>0.097171</td>\n",
       "      <td>-0.141813</td>\n",
       "      <td>0.281754</td>\n",
       "      <td>-0.364205</td>\n",
       "    </tr>\n",
       "    <tr>\n",
       "      <th>1</th>\n",
       "      <td>0.230850</td>\n",
       "      <td>0.286152</td>\n",
       "      <td>0.233551</td>\n",
       "      <td>0.256156</td>\n",
       "      <td>-0.308969</td>\n",
       "      <td>-0.243003</td>\n",
       "      <td>-0.245095</td>\n",
       "      <td>-0.281883</td>\n",
       "      <td>-0.434795</td>\n",
       "      <td>-0.299478</td>\n",
       "      <td>-0.325266</td>\n",
       "      <td>-0.196964</td>\n",
       "      <td>0.103781</td>\n",
       "      <td>0.095245</td>\n",
       "      <td>-0.407022</td>\n",
       "      <td>-0.311009</td>\n",
       "    </tr>\n",
       "    <tr>\n",
       "      <th>2</th>\n",
       "      <td>-0.362057</td>\n",
       "      <td>-0.055521</td>\n",
       "      <td>0.091740</td>\n",
       "      <td>-0.364959</td>\n",
       "      <td>-0.257696</td>\n",
       "      <td>-0.476093</td>\n",
       "      <td>-0.501335</td>\n",
       "      <td>-0.172721</td>\n",
       "      <td>0.192389</td>\n",
       "      <td>-0.211863</td>\n",
       "      <td>0.182231</td>\n",
       "      <td>-0.252932</td>\n",
       "      <td>-0.195526</td>\n",
       "      <td>-0.276594</td>\n",
       "      <td>0.166088</td>\n",
       "      <td>0.463809</td>\n",
       "    </tr>\n",
       "    <tr>\n",
       "      <th>3</th>\n",
       "      <td>-0.283273</td>\n",
       "      <td>0.295539</td>\n",
       "      <td>0.379047</td>\n",
       "      <td>-0.506663</td>\n",
       "      <td>-0.366593</td>\n",
       "      <td>-0.028546</td>\n",
       "      <td>0.503836</td>\n",
       "      <td>-0.142373</td>\n",
       "      <td>0.408848</td>\n",
       "      <td>0.133970</td>\n",
       "      <td>-0.124139</td>\n",
       "      <td>0.196644</td>\n",
       "      <td>0.106386</td>\n",
       "      <td>0.146099</td>\n",
       "      <td>-0.157984</td>\n",
       "      <td>0.007255</td>\n",
       "    </tr>\n",
       "    <tr>\n",
       "      <th>4</th>\n",
       "      <td>-0.163252</td>\n",
       "      <td>-0.319116</td>\n",
       "      <td>-0.252986</td>\n",
       "      <td>-0.350014</td>\n",
       "      <td>-0.228978</td>\n",
       "      <td>-0.388825</td>\n",
       "      <td>-0.421866</td>\n",
       "      <td>0.215424</td>\n",
       "      <td>0.313512</td>\n",
       "      <td>-0.219980</td>\n",
       "      <td>0.253863</td>\n",
       "      <td>-0.357193</td>\n",
       "      <td>-0.315502</td>\n",
       "      <td>0.244742</td>\n",
       "      <td>0.314421</td>\n",
       "      <td>0.256029</td>\n",
       "    </tr>\n",
       "    <tr>\n",
       "      <th>...</th>\n",
       "      <td>...</td>\n",
       "      <td>...</td>\n",
       "      <td>...</td>\n",
       "      <td>...</td>\n",
       "      <td>...</td>\n",
       "      <td>...</td>\n",
       "      <td>...</td>\n",
       "      <td>...</td>\n",
       "      <td>...</td>\n",
       "      <td>...</td>\n",
       "      <td>...</td>\n",
       "      <td>...</td>\n",
       "      <td>...</td>\n",
       "      <td>...</td>\n",
       "      <td>...</td>\n",
       "      <td>...</td>\n",
       "    </tr>\n",
       "    <tr>\n",
       "      <th>5903</th>\n",
       "      <td>0.349977</td>\n",
       "      <td>0.206881</td>\n",
       "      <td>0.121352</td>\n",
       "      <td>0.108730</td>\n",
       "      <td>0.081701</td>\n",
       "      <td>0.136530</td>\n",
       "      <td>0.431430</td>\n",
       "      <td>0.367053</td>\n",
       "      <td>-0.336297</td>\n",
       "      <td>0.158573</td>\n",
       "      <td>0.100805</td>\n",
       "      <td>0.421194</td>\n",
       "      <td>0.208838</td>\n",
       "      <td>0.442634</td>\n",
       "      <td>-0.322749</td>\n",
       "      <td>0.028968</td>\n",
       "    </tr>\n",
       "    <tr>\n",
       "      <th>5904</th>\n",
       "      <td>0.205474</td>\n",
       "      <td>0.166048</td>\n",
       "      <td>0.358791</td>\n",
       "      <td>0.299162</td>\n",
       "      <td>-0.120707</td>\n",
       "      <td>-0.201508</td>\n",
       "      <td>-0.041370</td>\n",
       "      <td>-0.512942</td>\n",
       "      <td>-0.555056</td>\n",
       "      <td>-0.178221</td>\n",
       "      <td>-0.154642</td>\n",
       "      <td>0.220520</td>\n",
       "      <td>-0.134389</td>\n",
       "      <td>0.367065</td>\n",
       "      <td>0.279016</td>\n",
       "      <td>-0.110312</td>\n",
       "    </tr>\n",
       "    <tr>\n",
       "      <th>5905</th>\n",
       "      <td>-0.307714</td>\n",
       "      <td>-0.218867</td>\n",
       "      <td>0.186829</td>\n",
       "      <td>0.400600</td>\n",
       "      <td>-0.268654</td>\n",
       "      <td>0.562671</td>\n",
       "      <td>0.205958</td>\n",
       "      <td>0.396834</td>\n",
       "      <td>0.221304</td>\n",
       "      <td>0.307869</td>\n",
       "      <td>-0.178668</td>\n",
       "      <td>-0.124738</td>\n",
       "      <td>-0.213121</td>\n",
       "      <td>0.274568</td>\n",
       "      <td>-0.231483</td>\n",
       "      <td>-0.241057</td>\n",
       "    </tr>\n",
       "    <tr>\n",
       "      <th>5906</th>\n",
       "      <td>0.486643</td>\n",
       "      <td>0.061825</td>\n",
       "      <td>-0.272198</td>\n",
       "      <td>-0.477592</td>\n",
       "      <td>0.056850</td>\n",
       "      <td>0.436851</td>\n",
       "      <td>-0.015897</td>\n",
       "      <td>-0.125517</td>\n",
       "      <td>0.241650</td>\n",
       "      <td>0.200351</td>\n",
       "      <td>-0.170119</td>\n",
       "      <td>0.367305</td>\n",
       "      <td>-0.274469</td>\n",
       "      <td>0.382177</td>\n",
       "      <td>-0.380776</td>\n",
       "      <td>0.104088</td>\n",
       "    </tr>\n",
       "    <tr>\n",
       "      <th>5907</th>\n",
       "      <td>-0.298034</td>\n",
       "      <td>0.126997</td>\n",
       "      <td>0.209450</td>\n",
       "      <td>-0.325802</td>\n",
       "      <td>-0.128498</td>\n",
       "      <td>-0.366550</td>\n",
       "      <td>-0.440254</td>\n",
       "      <td>-0.300752</td>\n",
       "      <td>0.216675</td>\n",
       "      <td>-0.102867</td>\n",
       "      <td>0.205831</td>\n",
       "      <td>-0.199841</td>\n",
       "      <td>-0.128561</td>\n",
       "      <td>-0.429417</td>\n",
       "      <td>-0.000009</td>\n",
       "      <td>0.427297</td>\n",
       "    </tr>\n",
       "  </tbody>\n",
       "</table>\n",
       "<p>5908 rows × 16 columns</p>\n",
       "</div>"
      ],
      "text/plain": [
       "             0         1         2         3         4         5         6  \\\n",
       "0    -0.004742  0.195250  0.462723  0.504912 -0.346100  0.240062 -0.335112   \n",
       "1     0.230850  0.286152  0.233551  0.256156 -0.308969 -0.243003 -0.245095   \n",
       "2    -0.362057 -0.055521  0.091740 -0.364959 -0.257696 -0.476093 -0.501335   \n",
       "3    -0.283273  0.295539  0.379047 -0.506663 -0.366593 -0.028546  0.503836   \n",
       "4    -0.163252 -0.319116 -0.252986 -0.350014 -0.228978 -0.388825 -0.421866   \n",
       "...        ...       ...       ...       ...       ...       ...       ...   \n",
       "5903  0.349977  0.206881  0.121352  0.108730  0.081701  0.136530  0.431430   \n",
       "5904  0.205474  0.166048  0.358791  0.299162 -0.120707 -0.201508 -0.041370   \n",
       "5905 -0.307714 -0.218867  0.186829  0.400600 -0.268654  0.562671  0.205958   \n",
       "5906  0.486643  0.061825 -0.272198 -0.477592  0.056850  0.436851 -0.015897   \n",
       "5907 -0.298034  0.126997  0.209450 -0.325802 -0.128498 -0.366550 -0.440254   \n",
       "\n",
       "             7         8         9        10        11        12        13  \\\n",
       "0     0.344381  0.023588 -0.332543 -0.486879  0.232037  0.097171 -0.141813   \n",
       "1    -0.281883 -0.434795 -0.299478 -0.325266 -0.196964  0.103781  0.095245   \n",
       "2    -0.172721  0.192389 -0.211863  0.182231 -0.252932 -0.195526 -0.276594   \n",
       "3    -0.142373  0.408848  0.133970 -0.124139  0.196644  0.106386  0.146099   \n",
       "4     0.215424  0.313512 -0.219980  0.253863 -0.357193 -0.315502  0.244742   \n",
       "...        ...       ...       ...       ...       ...       ...       ...   \n",
       "5903  0.367053 -0.336297  0.158573  0.100805  0.421194  0.208838  0.442634   \n",
       "5904 -0.512942 -0.555056 -0.178221 -0.154642  0.220520 -0.134389  0.367065   \n",
       "5905  0.396834  0.221304  0.307869 -0.178668 -0.124738 -0.213121  0.274568   \n",
       "5906 -0.125517  0.241650  0.200351 -0.170119  0.367305 -0.274469  0.382177   \n",
       "5907 -0.300752  0.216675 -0.102867  0.205831 -0.199841 -0.128561 -0.429417   \n",
       "\n",
       "            14        15  \n",
       "0     0.281754 -0.364205  \n",
       "1    -0.407022 -0.311009  \n",
       "2     0.166088  0.463809  \n",
       "3    -0.157984  0.007255  \n",
       "4     0.314421  0.256029  \n",
       "...        ...       ...  \n",
       "5903 -0.322749  0.028968  \n",
       "5904  0.279016 -0.110312  \n",
       "5905 -0.231483 -0.241057  \n",
       "5906 -0.380776  0.104088  \n",
       "5907 -0.000009  0.427297  \n",
       "\n",
       "[5908 rows x 16 columns]"
      ]
     },
     "execution_count": 1,
     "metadata": {},
     "output_type": "execute_result"
    }
   ],
   "source": [
    "import pandas as pd\n",
    "emb = pd.read_csv(\"politician_embedding.csv\")\n",
    "emb"
   ]
  },
  {
   "cell_type": "code",
   "execution_count": 2,
   "metadata": {
    "colab": {
     "base_uri": "https://localhost:8080/",
     "height": 423
    },
    "id": "HX_7MpkS8RF0",
    "outputId": "08351bb1-ad66-4095-8574-20e631c78e21"
   },
   "outputs": [
    {
     "data": {
      "text/html": [
       "<div>\n",
       "<style scoped>\n",
       "    .dataframe tbody tr th:only-of-type {\n",
       "        vertical-align: middle;\n",
       "    }\n",
       "\n",
       "    .dataframe tbody tr th {\n",
       "        vertical-align: top;\n",
       "    }\n",
       "\n",
       "    .dataframe thead th {\n",
       "        text-align: right;\n",
       "    }\n",
       "</style>\n",
       "<table border=\"1\" class=\"dataframe\">\n",
       "  <thead>\n",
       "    <tr style=\"text-align: right;\">\n",
       "      <th></th>\n",
       "      <th>node_1</th>\n",
       "      <th>node_2</th>\n",
       "    </tr>\n",
       "  </thead>\n",
       "  <tbody>\n",
       "    <tr>\n",
       "      <th>0</th>\n",
       "      <td>0</td>\n",
       "      <td>1972</td>\n",
       "    </tr>\n",
       "    <tr>\n",
       "      <th>1</th>\n",
       "      <td>0</td>\n",
       "      <td>5111</td>\n",
       "    </tr>\n",
       "    <tr>\n",
       "      <th>2</th>\n",
       "      <td>0</td>\n",
       "      <td>138</td>\n",
       "    </tr>\n",
       "    <tr>\n",
       "      <th>3</th>\n",
       "      <td>0</td>\n",
       "      <td>3053</td>\n",
       "    </tr>\n",
       "    <tr>\n",
       "      <th>4</th>\n",
       "      <td>0</td>\n",
       "      <td>1473</td>\n",
       "    </tr>\n",
       "    <tr>\n",
       "      <th>...</th>\n",
       "      <td>...</td>\n",
       "      <td>...</td>\n",
       "    </tr>\n",
       "    <tr>\n",
       "      <th>41724</th>\n",
       "      <td>5871</td>\n",
       "      <td>5873</td>\n",
       "    </tr>\n",
       "    <tr>\n",
       "      <th>41725</th>\n",
       "      <td>5879</td>\n",
       "      <td>5888</td>\n",
       "    </tr>\n",
       "    <tr>\n",
       "      <th>41726</th>\n",
       "      <td>5882</td>\n",
       "      <td>5899</td>\n",
       "    </tr>\n",
       "    <tr>\n",
       "      <th>41727</th>\n",
       "      <td>5882</td>\n",
       "      <td>5898</td>\n",
       "    </tr>\n",
       "    <tr>\n",
       "      <th>41728</th>\n",
       "      <td>5886</td>\n",
       "      <td>2981</td>\n",
       "    </tr>\n",
       "  </tbody>\n",
       "</table>\n",
       "<p>41729 rows × 2 columns</p>\n",
       "</div>"
      ],
      "text/plain": [
       "       node_1  node_2\n",
       "0           0    1972\n",
       "1           0    5111\n",
       "2           0     138\n",
       "3           0    3053\n",
       "4           0    1473\n",
       "...       ...     ...\n",
       "41724    5871    5873\n",
       "41725    5879    5888\n",
       "41726    5882    5899\n",
       "41727    5882    5898\n",
       "41728    5886    2981\n",
       "\n",
       "[41729 rows x 2 columns]"
      ]
     },
     "execution_count": 2,
     "metadata": {},
     "output_type": "execute_result"
    }
   ],
   "source": [
    "edges = pd.read_csv(\"politician_edges.csv\")\n",
    "edges"
   ]
  },
  {
   "cell_type": "code",
   "execution_count": 3,
   "metadata": {
    "id": "hBK2286DHQpV"
   },
   "outputs": [],
   "source": [
    "edge_df = pd.DataFrame(edges)"
   ]
  },
  {
   "cell_type": "code",
   "execution_count": 4,
   "metadata": {
    "colab": {
     "base_uri": "https://localhost:8080/"
    },
    "id": "KywfWDelIQPe",
    "outputId": "32a4fc22-f64e-4caf-863c-7c8f93d7feb7"
   },
   "outputs": [
    {
     "name": "stdout",
     "output_type": "stream",
     "text": [
      "<class 'pandas.core.frame.DataFrame'>\n",
      "RangeIndex: 41729 entries, 0 to 41728\n",
      "Data columns (total 2 columns):\n",
      " #   Column  Non-Null Count  Dtype\n",
      "---  ------  --------------  -----\n",
      " 0   node_1  41729 non-null  int64\n",
      " 1   node_2  41729 non-null  int64\n",
      "dtypes: int64(2)\n",
      "memory usage: 652.1 KB\n"
     ]
    }
   ],
   "source": [
    "edge_df.info()"
   ]
  },
  {
   "cell_type": "code",
   "execution_count": 5,
   "metadata": {
    "colab": {
     "base_uri": "https://localhost:8080/",
     "height": 423
    },
    "id": "V9HJKlAMXoRX",
    "outputId": "bcc0fb73-66d0-45dd-fe40-c8e0303e347f"
   },
   "outputs": [
    {
     "data": {
      "text/html": [
       "<div>\n",
       "<style scoped>\n",
       "    .dataframe tbody tr th:only-of-type {\n",
       "        vertical-align: middle;\n",
       "    }\n",
       "\n",
       "    .dataframe tbody tr th {\n",
       "        vertical-align: top;\n",
       "    }\n",
       "\n",
       "    .dataframe thead th {\n",
       "        text-align: right;\n",
       "    }\n",
       "</style>\n",
       "<table border=\"1\" class=\"dataframe\">\n",
       "  <thead>\n",
       "    <tr style=\"text-align: right;\">\n",
       "      <th></th>\n",
       "      <th>node_1</th>\n",
       "      <th>node_2</th>\n",
       "    </tr>\n",
       "  </thead>\n",
       "  <tbody>\n",
       "    <tr>\n",
       "      <th>0</th>\n",
       "      <td>0</td>\n",
       "      <td>1972</td>\n",
       "    </tr>\n",
       "    <tr>\n",
       "      <th>1</th>\n",
       "      <td>0</td>\n",
       "      <td>5111</td>\n",
       "    </tr>\n",
       "    <tr>\n",
       "      <th>2</th>\n",
       "      <td>0</td>\n",
       "      <td>138</td>\n",
       "    </tr>\n",
       "    <tr>\n",
       "      <th>3</th>\n",
       "      <td>0</td>\n",
       "      <td>3053</td>\n",
       "    </tr>\n",
       "    <tr>\n",
       "      <th>4</th>\n",
       "      <td>0</td>\n",
       "      <td>1473</td>\n",
       "    </tr>\n",
       "    <tr>\n",
       "      <th>...</th>\n",
       "      <td>...</td>\n",
       "      <td>...</td>\n",
       "    </tr>\n",
       "    <tr>\n",
       "      <th>41724</th>\n",
       "      <td>5871</td>\n",
       "      <td>5873</td>\n",
       "    </tr>\n",
       "    <tr>\n",
       "      <th>41725</th>\n",
       "      <td>5879</td>\n",
       "      <td>5888</td>\n",
       "    </tr>\n",
       "    <tr>\n",
       "      <th>41726</th>\n",
       "      <td>5882</td>\n",
       "      <td>5899</td>\n",
       "    </tr>\n",
       "    <tr>\n",
       "      <th>41727</th>\n",
       "      <td>5882</td>\n",
       "      <td>5898</td>\n",
       "    </tr>\n",
       "    <tr>\n",
       "      <th>41728</th>\n",
       "      <td>5886</td>\n",
       "      <td>2981</td>\n",
       "    </tr>\n",
       "  </tbody>\n",
       "</table>\n",
       "<p>41729 rows × 2 columns</p>\n",
       "</div>"
      ],
      "text/plain": [
       "       node_1  node_2\n",
       "0           0    1972\n",
       "1           0    5111\n",
       "2           0     138\n",
       "3           0    3053\n",
       "4           0    1473\n",
       "...       ...     ...\n",
       "41724    5871    5873\n",
       "41725    5879    5888\n",
       "41726    5882    5899\n",
       "41727    5882    5898\n",
       "41728    5886    2981\n",
       "\n",
       "[41729 rows x 2 columns]"
      ]
     },
     "execution_count": 5,
     "metadata": {},
     "output_type": "execute_result"
    }
   ],
   "source": [
    "edge_df"
   ]
  },
  {
   "cell_type": "code",
   "execution_count": 6,
   "metadata": {
    "id": "7qjiMJLrF9Qk"
   },
   "outputs": [],
   "source": [
    "import csv\n",
    "import numpy as np\n",
    "\n",
    "\n",
    "num_nodes = 5908\n",
    "a = np.zeros((num_nodes,num_nodes))\n",
    "  \n",
    "for i in range(5908):\n",
    "    node1 = edge_df.loc[i ,\"node_1\"]\n",
    "    node2 = edge_df.loc[i,\"node_2\"]\n",
    "    a[node1][node2] = 1\n",
    "    a[node2][node1] = 1"
   ]
  },
  {
   "cell_type": "code",
   "execution_count": 7,
   "metadata": {
    "colab": {
     "base_uri": "https://localhost:8080/"
    },
    "id": "vUnAvJzII3Yh",
    "outputId": "1720de3d-ff50-4841-ceb7-1ffa3b6c20bf"
   },
   "outputs": [
    {
     "data": {
      "text/plain": [
       "array([[0., 0., 0., ..., 0., 0., 0.],\n",
       "       [0., 0., 0., ..., 0., 0., 0.],\n",
       "       [0., 0., 0., ..., 0., 0., 0.],\n",
       "       ...,\n",
       "       [0., 0., 0., ..., 0., 0., 0.],\n",
       "       [0., 0., 0., ..., 0., 0., 0.],\n",
       "       [0., 0., 0., ..., 0., 0., 0.]])"
      ]
     },
     "execution_count": 7,
     "metadata": {},
     "output_type": "execute_result"
    }
   ],
   "source": [
    "a"
   ]
  },
  {
   "cell_type": "code",
   "execution_count": 8,
   "metadata": {
    "colab": {
     "base_uri": "https://localhost:8080/"
    },
    "id": "ugRrGtOXd7Yh",
    "outputId": "821f9322-2c12-4104-902f-3accd2e6e4da"
   },
   "outputs": [
    {
     "data": {
      "text/plain": [
       "1.0"
      ]
     },
     "execution_count": 8,
     "metadata": {},
     "output_type": "execute_result"
    }
   ],
   "source": [
    "a[0][5111]"
   ]
  },
  {
   "cell_type": "code",
   "execution_count": 9,
   "metadata": {
    "colab": {
     "base_uri": "https://localhost:8080/"
    },
    "id": "8dQwYSwU_ET3",
    "outputId": "e48347aa-1169-45aa-f299-09a684cdeabd"
   },
   "outputs": [
    {
     "name": "stdout",
     "output_type": "stream",
     "text": [
      "             0         1         2         3         4         5         6  \\\n",
      "0    -0.004742  0.195250  0.462723  0.504912 -0.346100  0.240062 -0.335112   \n",
      "1     0.230850  0.286152  0.233551  0.256156 -0.308969 -0.243003 -0.245095   \n",
      "2    -0.362057 -0.055521  0.091740 -0.364959 -0.257696 -0.476093 -0.501335   \n",
      "3    -0.283273  0.295539  0.379047 -0.506663 -0.366593 -0.028546  0.503836   \n",
      "4    -0.163252 -0.319116 -0.252986 -0.350014 -0.228978 -0.388825 -0.421866   \n",
      "...        ...       ...       ...       ...       ...       ...       ...   \n",
      "5903  0.349977  0.206881  0.121352  0.108730  0.081701  0.136530  0.431430   \n",
      "5904  0.205474  0.166048  0.358791  0.299162 -0.120707 -0.201508 -0.041370   \n",
      "5905 -0.307714 -0.218867  0.186829  0.400600 -0.268654  0.562671  0.205958   \n",
      "5906  0.486643  0.061825 -0.272198 -0.477592  0.056850  0.436851 -0.015897   \n",
      "5907 -0.298034  0.126997  0.209450 -0.325802 -0.128498 -0.366550 -0.440254   \n",
      "\n",
      "             7         8         9        10        11        12        13  \\\n",
      "0     0.344381  0.023588 -0.332543 -0.486879  0.232037  0.097171 -0.141813   \n",
      "1    -0.281883 -0.434795 -0.299478 -0.325266 -0.196964  0.103781  0.095245   \n",
      "2    -0.172721  0.192389 -0.211863  0.182231 -0.252932 -0.195526 -0.276594   \n",
      "3    -0.142373  0.408848  0.133970 -0.124139  0.196644  0.106386  0.146099   \n",
      "4     0.215424  0.313512 -0.219980  0.253863 -0.357193 -0.315502  0.244742   \n",
      "...        ...       ...       ...       ...       ...       ...       ...   \n",
      "5903  0.367053 -0.336297  0.158573  0.100805  0.421194  0.208838  0.442634   \n",
      "5904 -0.512942 -0.555056 -0.178221 -0.154642  0.220520 -0.134389  0.367065   \n",
      "5905  0.396834  0.221304  0.307869 -0.178668 -0.124738 -0.213121  0.274568   \n",
      "5906 -0.125517  0.241650  0.200351 -0.170119  0.367305 -0.274469  0.382177   \n",
      "5907 -0.300752  0.216675 -0.102867  0.205831 -0.199841 -0.128561 -0.429417   \n",
      "\n",
      "            14        15    ID  \n",
      "0     0.281754 -0.364205     0  \n",
      "1    -0.407022 -0.311009     1  \n",
      "2     0.166088  0.463809     2  \n",
      "3    -0.157984  0.007255     3  \n",
      "4     0.314421  0.256029     4  \n",
      "...        ...       ...   ...  \n",
      "5903 -0.322749  0.028968  5903  \n",
      "5904  0.279016 -0.110312  5904  \n",
      "5905 -0.231483 -0.241057  5905  \n",
      "5906 -0.380776  0.104088  5906  \n",
      "5907 -0.000009  0.427297  5907  \n",
      "\n",
      "[5908 rows x 17 columns]\n"
     ]
    }
   ],
   "source": [
    "emb['ID'] = range(0, 5908)\n",
    "\n",
    "\n",
    "print(emb)"
   ]
  },
  {
   "cell_type": "code",
   "execution_count": 10,
   "metadata": {
    "colab": {
     "base_uri": "https://localhost:8080/"
    },
    "id": "99sSCXlMDQP4",
    "outputId": "7dbd2a52-434c-402e-b307-ef511f23a094"
   },
   "outputs": [
    {
     "name": "stdout",
     "output_type": "stream",
     "text": [
      "Node 147 has degree 157.0\n",
      "Node 98 has degree 145.0\n",
      "Node 1324 has degree 142.0\n",
      "Node 112 has degree 141.0\n",
      "Node 175 has degree 118.0\n",
      "Node 191 has degree 118.0\n",
      "Node 210 has degree 112.0\n",
      "Node 277 has degree 104.0\n",
      "Node 169 has degree 77.0\n",
      "Node 190 has degree 71.0\n",
      "Node 192 has degree 66.0\n",
      "Node 195 has degree 64.0\n",
      "Node 55 has degree 58.0\n",
      "Node 121 has degree 55.0\n",
      "Node 361 has degree 54.0\n",
      "Node 93 has degree 54.0\n",
      "Node 178 has degree 52.0\n",
      "Node 179 has degree 50.0\n",
      "Node 92 has degree 50.0\n",
      "Node 108 has degree 50.0\n",
      "Node 61 has degree 49.0\n",
      "Node 155 has degree 49.0\n",
      "Node 165 has degree 48.0\n",
      "Node 18 has degree 48.0\n",
      "Node 46 has degree 48.0\n",
      "Node 3042 has degree 45.0\n",
      "Node 4992 has degree 45.0\n",
      "Node 426 has degree 44.0\n",
      "Node 0 has degree 44.0\n",
      "Node 72 has degree 40.0\n",
      "Node 154 has degree 39.0\n",
      "Node 395 has degree 39.0\n",
      "Node 408 has degree 37.0\n",
      "Node 113 has degree 37.0\n",
      "Node 4 has degree 37.0\n",
      "Node 211 has degree 36.0\n",
      "Node 403 has degree 36.0\n",
      "Node 423 has degree 36.0\n",
      "Node 69 has degree 36.0\n",
      "Node 44 has degree 36.0\n",
      "Node 208 has degree 35.0\n",
      "Node 297 has degree 34.0\n",
      "Node 384 has degree 34.0\n",
      "Node 74 has degree 34.0\n",
      "Node 355 has degree 34.0\n",
      "Node 143 has degree 33.0\n",
      "Node 319 has degree 33.0\n",
      "Node 77 has degree 32.0\n",
      "Node 399 has degree 32.0\n",
      "Node 420 has degree 32.0\n",
      "Node 383 has degree 31.0\n",
      "Node 302 has degree 30.0\n",
      "Node 57 has degree 30.0\n",
      "Node 79 has degree 29.0\n",
      "Node 396 has degree 29.0\n",
      "Node 97 has degree 29.0\n",
      "Node 88 has degree 28.0\n",
      "Node 100 has degree 28.0\n",
      "Node 256 has degree 28.0\n",
      "Node 419 has degree 28.0\n",
      "Node 329 has degree 28.0\n",
      "Node 220 has degree 27.0\n",
      "Node 11 has degree 27.0\n",
      "Node 123 has degree 26.0\n",
      "Node 309 has degree 26.0\n",
      "Node 188 has degree 26.0\n",
      "Node 342 has degree 25.0\n",
      "Node 173 has degree 25.0\n",
      "Node 39 has degree 25.0\n",
      "Node 5800 has degree 25.0\n",
      "Node 136 has degree 25.0\n",
      "Node 84 has degree 25.0\n",
      "Node 371 has degree 24.0\n",
      "Node 430 has degree 24.0\n",
      "Node 89 has degree 24.0\n",
      "Node 1864 has degree 24.0\n",
      "Node 125 has degree 24.0\n",
      "Node 202 has degree 24.0\n",
      "Node 346 has degree 23.0\n",
      "Node 132 has degree 23.0\n",
      "Node 3022 has degree 23.0\n",
      "Node 298 has degree 23.0\n",
      "Node 412 has degree 22.0\n",
      "Node 138 has degree 21.0\n",
      "Node 1744 has degree 21.0\n",
      "Node 218 has degree 21.0\n",
      "Node 388 has degree 21.0\n",
      "Node 377 has degree 21.0\n",
      "Node 160 has degree 21.0\n",
      "Node 56 has degree 20.0\n",
      "Node 156 has degree 20.0\n",
      "Node 393 has degree 20.0\n",
      "Node 103 has degree 20.0\n",
      "Node 85 has degree 19.0\n",
      "Node 109 has degree 19.0\n",
      "Node 316 has degree 19.0\n",
      "Node 1 has degree 19.0\n",
      "Node 394 has degree 19.0\n",
      "Node 4032 has degree 19.0\n",
      "Node 391 has degree 19.0\n"
     ]
    }
   ],
   "source": [
    "import numpy as np\n",
    "\n",
    "# Create a sample adjacency matrix\n",
    "adj_matrix = a\n",
    "\n",
    "# Calculate the degree of each node\n",
    "degree = np.sum(adj_matrix, axis=1)\n",
    "\n",
    "# Sort the degree in descending order and get the top 100 nodes\n",
    "top_nodes = np.argsort(degree)[::-1][:100]\n",
    "\n",
    "# Print the top 100 nodes with their degree\n",
    "for i in top_nodes:\n",
    "    print(f'Node {i} has degree {degree[i]}')\n"
   ]
  },
  {
   "cell_type": "code",
   "execution_count": 11,
   "metadata": {
    "colab": {
     "base_uri": "https://localhost:8080/"
    },
    "id": "FNZWYzP8earh",
    "outputId": "10f4a27a-9ab5-4b44-f0bf-e6334794e25f"
   },
   "outputs": [
    {
     "data": {
      "text/plain": [
       "array([ 147,   98, 1324,  112,  175,  191,  210,  277,  169,  190,  192,\n",
       "        195,   55,  121,  361,   93,  178,  179,   92,  108,   61,  155,\n",
       "        165,   18,   46, 3042, 4992,  426,    0,   72,  154,  395,  408,\n",
       "        113,    4,  211,  403,  423,   69,   44,  208,  297,  384,   74,\n",
       "        355,  143,  319,   77,  399,  420,  383,  302,   57,   79,  396,\n",
       "         97,   88,  100,  256,  419,  329,  220,   11,  123,  309,  188,\n",
       "        342,  173,   39, 5800,  136,   84,  371,  430,   89, 1864,  125,\n",
       "        202,  346,  132, 3022,  298,  412,  138, 1744,  218,  388,  377,\n",
       "        160,   56,  156,  393,  103,   85,  109,  316,    1,  394, 4032,\n",
       "        391], dtype=int64)"
      ]
     },
     "execution_count": 11,
     "metadata": {},
     "output_type": "execute_result"
    }
   ],
   "source": [
    "top_nodes"
   ]
  },
  {
   "cell_type": "code",
   "execution_count": 12,
   "metadata": {
    "colab": {
     "base_uri": "https://localhost:8080/"
    },
    "id": "-ASzaMvpe5hc",
    "outputId": "62663c25-da32-4a51-a870-7b2ddddbab22"
   },
   "outputs": [
    {
     "data": {
      "text/plain": [
       "array([ 147,   98, 1324,  112,  175,  191,  210,  277,  169,  190,  192,\n",
       "        195,   55,  121,  361,   93,  178,  179,   92,  108,   61,  155,\n",
       "        165,   18,   46, 3042, 4992,  426,    0,   72,  154,  395,  408,\n",
       "        113,    4,  211,  403,  423,   69,   44,  208,  297,  384,   74,\n",
       "        355,  143,  319,   77,  399,  420,  383,  302,   57,   79,  396,\n",
       "         97,   88,  100,  256,  419,  329,  220,   11,  123,  309,  188,\n",
       "        342,  173,   39, 5800,  136,   84,  371,  430,   89, 1864,  125,\n",
       "        202,  346,  132, 3022,  298,  412,  138, 1744,  218,  388,  377,\n",
       "        160,   56,  156,  393,  103,   85,  109,  316,    1,  394, 4032,\n",
       "        391], dtype=int64)"
      ]
     },
     "execution_count": 12,
     "metadata": {},
     "output_type": "execute_result"
    }
   ],
   "source": [
    "S_nodes = top_nodes\n",
    "S_nodes"
   ]
  },
  {
   "cell_type": "code",
   "execution_count": 13,
   "metadata": {
    "colab": {
     "base_uri": "https://localhost:8080/"
    },
    "id": "pxsARMLms7HX",
    "outputId": "e8e8d243-d2cb-4a4e-8569-ef598cf17766"
   },
   "outputs": [
    {
     "data": {
      "text/plain": [
       "(100,)"
      ]
     },
     "execution_count": 13,
     "metadata": {},
     "output_type": "execute_result"
    }
   ],
   "source": [
    "S_nodes.shape"
   ]
  },
  {
   "cell_type": "code",
   "execution_count": 14,
   "metadata": {
    "colab": {
     "base_uri": "https://localhost:8080/"
    },
    "id": "ryuDRsQihK1j",
    "outputId": "2f444636-2151-49cc-c2d3-4732e6ca0aa5"
   },
   "outputs": [
    {
     "data": {
      "text/plain": [
       "array([   0,    1,    2, ..., 5905, 5906, 5907])"
      ]
     },
     "execution_count": 14,
     "metadata": {},
     "output_type": "execute_result"
    }
   ],
   "source": [
    "\n",
    "arr = np.arange(0, 5908)\n",
    "arr"
   ]
  },
  {
   "cell_type": "code",
   "execution_count": 15,
   "metadata": {
    "colab": {
     "base_uri": "https://localhost:8080/"
    },
    "id": "0VxTMR7MhOB4",
    "outputId": "e98944cc-4ed4-4d6f-c39c-8b6a1df19f36"
   },
   "outputs": [
    {
     "data": {
      "text/plain": [
       "array([   2,    3,    5, ..., 5905, 5906, 5907])"
      ]
     },
     "execution_count": 15,
     "metadata": {},
     "output_type": "execute_result"
    }
   ],
   "source": [
    "T_nodes = np.setdiff1d(arr, S_nodes)\n",
    "T_nodes"
   ]
  },
  {
   "cell_type": "code",
   "execution_count": 16,
   "metadata": {
    "colab": {
     "base_uri": "https://localhost:8080/"
    },
    "id": "L9IcqAen9sPf",
    "outputId": "a8bae4aa-ab61-40b1-e4c9-bc3bdec20ebb"
   },
   "outputs": [
    {
     "data": {
      "text/plain": [
       "(5808,)"
      ]
     },
     "execution_count": 16,
     "metadata": {},
     "output_type": "execute_result"
    }
   ],
   "source": [
    "T_nodes.shape"
   ]
  },
  {
   "cell_type": "code",
   "execution_count": 17,
   "metadata": {
    "colab": {
     "base_uri": "https://localhost:8080/"
    },
    "id": "0JTBsh8pRGVQ",
    "outputId": "8100aef3-5234-4b38-faf5-fcbe51ee79c0"
   },
   "outputs": [
    {
     "name": "stdout",
     "output_type": "stream",
     "text": [
      "<class 'pandas.core.frame.DataFrame'>\n",
      "RangeIndex: 5908 entries, 0 to 5907\n",
      "Data columns (total 17 columns):\n",
      " #   Column  Non-Null Count  Dtype  \n",
      "---  ------  --------------  -----  \n",
      " 0   0       5908 non-null   float64\n",
      " 1   1       5908 non-null   float64\n",
      " 2   2       5908 non-null   float64\n",
      " 3   3       5908 non-null   float64\n",
      " 4   4       5908 non-null   float64\n",
      " 5   5       5908 non-null   float64\n",
      " 6   6       5908 non-null   float64\n",
      " 7   7       5908 non-null   float64\n",
      " 8   8       5908 non-null   float64\n",
      " 9   9       5908 non-null   float64\n",
      " 10  10      5908 non-null   float64\n",
      " 11  11      5908 non-null   float64\n",
      " 12  12      5908 non-null   float64\n",
      " 13  13      5908 non-null   float64\n",
      " 14  14      5908 non-null   float64\n",
      " 15  15      5908 non-null   float64\n",
      " 16  ID      5908 non-null   int64  \n",
      "dtypes: float64(16), int64(1)\n",
      "memory usage: 784.8 KB\n"
     ]
    }
   ],
   "source": [
    "emb.info()"
   ]
  },
  {
   "cell_type": "code",
   "execution_count": 18,
   "metadata": {
    "id": "4wTLbs3m9xYX"
   },
   "outputs": [
    {
     "name": "stdout",
     "output_type": "stream",
     "text": [
      "             0         1         2         3         4         5         6  \\\n",
      "0    -0.004742  0.195250  0.462723  0.504912 -0.346100  0.240062 -0.335112   \n",
      "1     0.230850  0.286152  0.233551  0.256156 -0.308969 -0.243003 -0.245095   \n",
      "4    -0.163252 -0.319116 -0.252986 -0.350014 -0.228978 -0.388825 -0.421866   \n",
      "11    0.448401 -0.100008 -0.278928 -0.274102 -0.361854  0.094360  0.086471   \n",
      "18    0.212506 -0.139126  0.235434 -0.017737  0.464792  0.294492  0.151779   \n",
      "...        ...       ...       ...       ...       ...       ...       ...   \n",
      "3022  0.072388 -0.302130 -0.257105 -0.278137 -0.417244  0.337572  0.144256   \n",
      "3042  0.225296 -0.319330 -0.189311 -0.250755 -0.363880  0.220870  0.158987   \n",
      "4032  0.496453 -0.200248 -0.151651 -0.344689  0.068391  0.315489  0.233639   \n",
      "4992  0.524934  0.167671  0.232966  0.142875 -0.004315  0.376891 -0.175281   \n",
      "5800 -0.422827  0.366200 -0.225639 -0.007633  0.074640  0.716764 -0.279894   \n",
      "\n",
      "             7         8         9        10        11        12        13  \\\n",
      "0     0.344381  0.023588 -0.332543 -0.486879  0.232037  0.097171 -0.141813   \n",
      "1    -0.281883 -0.434795 -0.299478 -0.325266 -0.196964  0.103781  0.095245   \n",
      "4     0.215424  0.313512 -0.219980  0.253863 -0.357193 -0.315502  0.244742   \n",
      "11    0.277868 -0.308862  0.282587  0.225362  0.222203  0.223952  0.245119   \n",
      "18   -0.103988 -0.084891 -0.313581  0.529901  0.323237 -0.390723  0.283680   \n",
      "...        ...       ...       ...       ...       ...       ...       ...   \n",
      "3022  0.329372 -0.293159  0.229119  0.288067  0.445822  0.252290  0.313709   \n",
      "3042  0.289492 -0.296914  0.267840  0.255622  0.344247  0.283121  0.326400   \n",
      "4032  0.424853 -0.318620  0.114473  0.174264 -0.382311  0.303051 -0.228381   \n",
      "4992  0.421213  0.085657 -0.290808 -0.206227  0.071168  0.421313 -0.330513   \n",
      "5800  0.212108 -0.245675 -0.183400  0.197851  0.195036 -0.395369  0.012307   \n",
      "\n",
      "            14        15    ID  \n",
      "0     0.281754 -0.364205     0  \n",
      "1    -0.407022 -0.311009     1  \n",
      "4     0.314421  0.256029     4  \n",
      "11   -0.358787  0.366900    11  \n",
      "18   -0.377046 -0.187544    18  \n",
      "...        ...       ...   ...  \n",
      "3022 -0.287360  0.434014  3022  \n",
      "3042 -0.268222  0.433635  3042  \n",
      "4032 -0.523280 -0.191759  4032  \n",
      "4992  0.197111 -0.388637  4992  \n",
      "5800  0.104711 -0.316431  5800  \n",
      "\n",
      "[100 rows x 17 columns]\n"
     ]
    }
   ],
   "source": [
    "import pandas as pd\n",
    "import numpy as np\n",
    "\n",
    "\n",
    "df = emb\n",
    "\n",
    "\n",
    "id_array = S_nodes\n",
    "\n",
    "S_emb = df[df['ID'].isin(id_array)]\n",
    "\n",
    "print(S_emb)\n"
   ]
  },
  {
   "cell_type": "code",
   "execution_count": 19,
   "metadata": {
    "colab": {
     "base_uri": "https://localhost:8080/"
    },
    "id": "jrD-vjsbR3Ld",
    "outputId": "bcad93c5-f256-4077-c610-7115aef18408"
   },
   "outputs": [
    {
     "name": "stdout",
     "output_type": "stream",
     "text": [
      "             0         1         2         3         4         5         6  \\\n",
      "2    -0.362057 -0.055521  0.091740 -0.364959 -0.257696 -0.476093 -0.501335   \n",
      "3    -0.283273  0.295539  0.379047 -0.506663 -0.366593 -0.028546  0.503836   \n",
      "5    -0.053556  0.228153  0.329264 -0.173395 -0.301294  0.260194  0.610191   \n",
      "6     0.139397  0.321960 -0.479688  0.389282 -0.127617 -0.072553 -0.232355   \n",
      "7     0.425108  0.320468 -0.201609 -0.280341  0.423013 -0.395022 -0.280457   \n",
      "...        ...       ...       ...       ...       ...       ...       ...   \n",
      "5903  0.349977  0.206881  0.121352  0.108730  0.081701  0.136530  0.431430   \n",
      "5904  0.205474  0.166048  0.358791  0.299162 -0.120707 -0.201508 -0.041370   \n",
      "5905 -0.307714 -0.218867  0.186829  0.400600 -0.268654  0.562671  0.205958   \n",
      "5906  0.486643  0.061825 -0.272198 -0.477592  0.056850  0.436851 -0.015897   \n",
      "5907 -0.298034  0.126997  0.209450 -0.325802 -0.128498 -0.366550 -0.440254   \n",
      "\n",
      "             7         8         9        10        11        12        13  \\\n",
      "2    -0.172721  0.192389 -0.211863  0.182231 -0.252932 -0.195526 -0.276594   \n",
      "3    -0.142373  0.408848  0.133970 -0.124139  0.196644  0.106386  0.146099   \n",
      "5    -0.217080  0.341409 -0.286078  0.200296 -0.257706 -0.267213 -0.136646   \n",
      "6    -0.284786 -0.113828 -0.127359  0.256749  0.326563 -0.219091 -0.225509   \n",
      "7    -0.000310  0.015215 -0.183007  0.088254 -0.017888  0.028845  0.434874   \n",
      "...        ...       ...       ...       ...       ...       ...       ...   \n",
      "5903  0.367053 -0.336297  0.158573  0.100805  0.421194  0.208838  0.442634   \n",
      "5904 -0.512942 -0.555056 -0.178221 -0.154642  0.220520 -0.134389  0.367065   \n",
      "5905  0.396834  0.221304  0.307869 -0.178668 -0.124738 -0.213121  0.274568   \n",
      "5906 -0.125517  0.241650  0.200351 -0.170119  0.367305 -0.274469  0.382177   \n",
      "5907 -0.300752  0.216675 -0.102867  0.205831 -0.199841 -0.128561 -0.429417   \n",
      "\n",
      "            14        15    ID  \n",
      "2     0.166088  0.463809     2  \n",
      "3    -0.157984  0.007255     3  \n",
      "5     0.215848 -0.025581     5  \n",
      "6     0.255826  0.360273     6  \n",
      "7     0.282800 -0.290439     7  \n",
      "...        ...       ...   ...  \n",
      "5903 -0.322749  0.028968  5903  \n",
      "5904  0.279016 -0.110312  5904  \n",
      "5905 -0.231483 -0.241057  5905  \n",
      "5906 -0.380776  0.104088  5906  \n",
      "5907 -0.000009  0.427297  5907  \n",
      "\n",
      "[5808 rows x 17 columns]\n"
     ]
    }
   ],
   "source": [
    "import pandas as pd\n",
    "import numpy as np\n",
    "\n",
    "\n",
    "df = emb\n",
    "\n",
    "\n",
    "id_array = T_nodes\n",
    "\n",
    "\n",
    "T_emb = df[df['ID'].isin(id_array)]\n",
    "\n",
    "print(T_emb)"
   ]
  },
  {
   "cell_type": "code",
   "execution_count": 20,
   "metadata": {
    "colab": {
     "base_uri": "https://localhost:8080/"
    },
    "id": "r5ftZm1rSHpH",
    "outputId": "4bd7e51f-58a9-45a8-fcaa-781a9781d871"
   },
   "outputs": [
    {
     "data": {
      "text/plain": [
       "array([[-2.41849093e-01, -1.05599567e-01,  6.52447869e-03, ...,\n",
       "         4.66956621e-01, -4.28965745e-01, -2.55423073e-01],\n",
       "       [-9.27975046e-02, -1.14471888e-01, -1.70898937e-01, ...,\n",
       "        -1.35995793e-01, -1.91874066e-01, -2.36665321e-02],\n",
       "       [ 1.00826017e+00, -1.63472543e-01,  2.01084622e-03, ...,\n",
       "        -2.25273200e-01, -1.22001145e-01,  6.21116497e-01],\n",
       "       ...,\n",
       "       [-5.44111901e-01, -1.91094767e-01, -1.16537055e-01, ...,\n",
       "         1.21852429e-01,  3.04486295e-01, -4.39285233e-01],\n",
       "       [-5.09303006e-01, -2.42458925e-01,  9.09456106e-04, ...,\n",
       "         7.17204404e-02, -8.53109445e-02, -4.06513863e-01],\n",
       "       [-2.19110902e-01, -2.43024706e-01,  7.30198559e-02, ...,\n",
       "         3.83691578e-01,  1.59406544e-01, -2.07423375e-01]])"
      ]
     },
     "execution_count": 20,
     "metadata": {},
     "output_type": "execute_result"
    }
   ],
   "source": [
    "S_emb1 = S_emb.drop(['ID'], axis=1)\n",
    "T_emb1 = T_emb.drop(['ID'], axis=1)\n",
    "\n",
    "ILM = np.dot(S_emb1,T_emb1.T)  \n",
    "ILM"
   ]
  },
  {
   "cell_type": "code",
   "execution_count": 21,
   "metadata": {
    "colab": {
     "base_uri": "https://localhost:8080/"
    },
    "id": "fsokaoAAw7wz",
    "outputId": "66472440-9084-4aca-d79b-df05a3aa5936"
   },
   "outputs": [
    {
     "data": {
      "text/plain": [
       "(100, 5808)"
      ]
     },
     "execution_count": 21,
     "metadata": {},
     "output_type": "execute_result"
    }
   ],
   "source": [
    "ILM.shape"
   ]
  },
  {
   "cell_type": "code",
   "execution_count": 22,
   "metadata": {
    "colab": {
     "base_uri": "https://localhost:8080/"
    },
    "id": "K2lCKLpnxABy",
    "outputId": "9e0273ce-e1c0-4343-a4ff-0cef72a589cd"
   },
   "outputs": [
    {
     "data": {
      "text/plain": [
       "array([[1.27458757e-04, 1.46063632e-04, 1.63394318e-04, ...,\n",
       "        2.58940564e-04, 1.05707536e-04, 1.25740324e-04],\n",
       "       [1.50657485e-04, 1.47427210e-04, 1.39338680e-04, ...,\n",
       "        1.44287907e-04, 1.36446471e-04, 1.61441027e-04],\n",
       "       [4.62926627e-04, 1.43428386e-04, 1.69240241e-04, ...,\n",
       "        1.34832761e-04, 1.49501624e-04, 3.14324188e-04],\n",
       "       ...,\n",
       "       [8.46540721e-05, 1.20492842e-04, 1.29819894e-04, ...,\n",
       "        1.64767855e-04, 1.97783186e-04, 9.40098799e-05],\n",
       "       [9.72351689e-05, 1.26973264e-04, 1.61959277e-04, ...,\n",
       "        1.73843577e-04, 1.48580148e-04, 1.07761625e-04],\n",
       "       [1.19761105e-04, 1.16931134e-04, 1.60393429e-04, ...,\n",
       "        2.18831374e-04, 1.74865379e-04, 1.21169028e-04]])"
      ]
     },
     "execution_count": 22,
     "metadata": {},
     "output_type": "execute_result"
    }
   ],
   "source": [
    "def softmax_(x):\n",
    "    return np.exp(x)/np.sum(np.exp(x))\n",
    "ILM = np.apply_along_axis(softmax_, 1, ILM)\n",
    "ILM"
   ]
  },
  {
   "cell_type": "code",
   "execution_count": 23,
   "metadata": {
    "colab": {
     "base_uri": "https://localhost:8080/"
    },
    "id": "CNjNq3vUxlxg",
    "outputId": "5995e4a8-c274-4cfd-887c-4e695ba48286"
   },
   "outputs": [
    {
     "data": {
      "text/plain": [
       "(100, 5808)"
      ]
     },
     "execution_count": 23,
     "metadata": {},
     "output_type": "execute_result"
    }
   ],
   "source": [
    "\n",
    "ILM.shape"
   ]
  },
  {
   "cell_type": "code",
   "execution_count": 24,
   "metadata": {
    "colab": {
     "base_uri": "https://localhost:8080/"
    },
    "id": "3XqbeLk11B7t",
    "outputId": "d5f47c5b-9e34-49a4-fb46-4ff7e610e0da"
   },
   "outputs": [
    {
     "name": "stdout",
     "output_type": "stream",
     "text": [
      "          Values  Rowvalue  Columnvalue\n",
      "0       0.000127         0            0\n",
      "1       0.000146         0            1\n",
      "2       0.000163         0            2\n",
      "3       0.000160         0            3\n",
      "4       0.000135         0            4\n",
      "...          ...       ...          ...\n",
      "580795  0.000149        99         5803\n",
      "580796  0.000141        99         5804\n",
      "580797  0.000219        99         5805\n",
      "580798  0.000175        99         5806\n",
      "580799  0.000121        99         5807\n",
      "\n",
      "[580800 rows x 3 columns]\n"
     ]
    }
   ],
   "source": [
    "import numpy as np\n",
    "import pandas as pd\n",
    "\n",
    "# create a 100x5808 array\n",
    "arr = ILM\n",
    "\n",
    "# flatten the array into a 1D array\n",
    "linear_arr = arr.flatten()\n",
    "\n",
    "# create a DataFrame with the linear array and two column names\n",
    "df = pd.DataFrame({'Values': linear_arr})\n",
    "\n",
    "# add a column for the row values\n",
    "df['Rowvalue'] = np.repeat(np.arange(100), 5808)\n",
    "\n",
    "# add a column for the column values\n",
    "df['Columnvalue'] = np.tile(np.arange(5808), 100)\n",
    "\n",
    "# print the DataFrame\n",
    "print(df)\n"
   ]
  },
  {
   "cell_type": "code",
   "execution_count": 25,
   "metadata": {
    "colab": {
     "base_uri": "https://localhost:8080/"
    },
    "id": "ifkyruvE4H1C",
    "outputId": "ffe8e78e-77c7-4328-b1be-770298522b0e"
   },
   "outputs": [
    {
     "name": "stdout",
     "output_type": "stream",
     "text": [
      "Result array shape: (580800,)\n",
      "          Values  Rowvalue  Columnvalue\n",
      "0       0.000127         0            2\n",
      "1       0.000146         0            3\n",
      "2       0.000163         0            5\n",
      "3       0.000160         0            6\n",
      "4       0.000135         0            7\n",
      "...          ...       ...          ...\n",
      "580795  0.000149        99         5903\n",
      "580796  0.000141        99         5904\n",
      "580797  0.000219        99         5905\n",
      "580798  0.000175        99         5906\n",
      "580799  0.000121        99         5907\n",
      "\n",
      "[580800 rows x 3 columns]\n"
     ]
    }
   ],
   "source": [
    "import numpy as np\n",
    "\n",
    "\n",
    "arr = T_nodes\n",
    "\n",
    "# repeat the array 100 times along the first axis\n",
    "repeated_arr = np.tile(arr, (100, 1))\n",
    "\n",
    "# flatten the repeated array into a 1D array\n",
    "result_arr = repeated_arr.flatten()\n",
    "\n",
    "# print the shape of the result array\n",
    "print(\"Result array shape:\", result_arr.shape)\n",
    "\n",
    "df['Columnvalue'] = result_arr\n",
    "\n",
    "# print the updated DataFrame\n",
    "print(df)\n"
   ]
  },
  {
   "cell_type": "code",
   "execution_count": 26,
   "metadata": {
    "colab": {
     "base_uri": "https://localhost:8080/"
    },
    "id": "2ypfwY6krhZK",
    "outputId": "7e875cee-3f70-4ccb-adeb-5a9b5b9fcaa1"
   },
   "outputs": [
    {
     "name": "stdout",
     "output_type": "stream",
     "text": [
      "[   0    0    0 ... 5800 5800 5800]\n"
     ]
    }
   ],
   "source": [
    "import numpy as np\n",
    "\n",
    "# create an example array\n",
    "arr = S_nodes\n",
    "sorted_arr = np.sort(arr)\n",
    "# repeat each element 5808 times successively\n",
    "new_arr = np.repeat(sorted_arr, 5808)\n",
    "\n",
    "# print the new array\n",
    "print(new_arr)\n"
   ]
  },
  {
   "cell_type": "code",
   "execution_count": 27,
   "metadata": {
    "colab": {
     "base_uri": "https://localhost:8080/"
    },
    "id": "S-dhg-xTr5ED",
    "outputId": "bc8f7a55-cec5-4fe0-ea6e-6dc11929b500"
   },
   "outputs": [
    {
     "data": {
      "text/plain": [
       "(580800,)"
      ]
     },
     "execution_count": 27,
     "metadata": {},
     "output_type": "execute_result"
    }
   ],
   "source": [
    "new_arr.shape"
   ]
  },
  {
   "cell_type": "code",
   "execution_count": 28,
   "metadata": {
    "colab": {
     "base_uri": "https://localhost:8080/"
    },
    "id": "t75yKQNpsbnY",
    "outputId": "a12d3951-be94-4a4c-ea78-8de29c54838a"
   },
   "outputs": [
    {
     "name": "stdout",
     "output_type": "stream",
     "text": [
      "          Values  Rowvalue  Columnvalue\n",
      "0       0.000127         0            2\n",
      "1       0.000146         0            3\n",
      "2       0.000163         0            5\n",
      "3       0.000160         0            6\n",
      "4       0.000135         0            7\n",
      "...          ...       ...          ...\n",
      "580795  0.000149      5800         5903\n",
      "580796  0.000141      5800         5904\n",
      "580797  0.000219      5800         5905\n",
      "580798  0.000175      5800         5906\n",
      "580799  0.000121      5800         5907\n",
      "\n",
      "[580800 rows x 3 columns]\n"
     ]
    }
   ],
   "source": [
    "df['Rowvalue'] = new_arr\n",
    "\n",
    "# print the updated DataFrame\n",
    "print(df)"
   ]
  },
  {
   "cell_type": "code",
   "execution_count": 29,
   "metadata": {
    "colab": {
     "base_uri": "https://localhost:8080/"
    },
    "id": "1fQpVK7Yy_F8",
    "outputId": "d9d9d32c-6228-4f0e-c4c2-995a4ee8a533"
   },
   "outputs": [
    {
     "data": {
      "text/plain": [
       "<bound method DataFrame.info of           Values  Rowvalue  Columnvalue\n",
       "0       0.000127         0            2\n",
       "1       0.000146         0            3\n",
       "2       0.000163         0            5\n",
       "3       0.000160         0            6\n",
       "4       0.000135         0            7\n",
       "...          ...       ...          ...\n",
       "580795  0.000149      5800         5903\n",
       "580796  0.000141      5800         5904\n",
       "580797  0.000219      5800         5905\n",
       "580798  0.000175      5800         5906\n",
       "580799  0.000121      5800         5907\n",
       "\n",
       "[580800 rows x 3 columns]>"
      ]
     },
     "execution_count": 29,
     "metadata": {},
     "output_type": "execute_result"
    }
   ],
   "source": [
    "df.info"
   ]
  },
  {
   "cell_type": "code",
   "execution_count": 30,
   "metadata": {
    "colab": {
     "base_uri": "https://localhost:8080/"
    },
    "id": "sCkOshyIyQhg",
    "outputId": "71c478fc-ff1a-4f05-95a6-6e89e6486dcc"
   },
   "outputs": [
    {
     "data": {
      "text/plain": [
       "array([[0., 0., 0., ..., 0., 0., 0.],\n",
       "       [0., 0., 0., ..., 0., 0., 0.],\n",
       "       [0., 0., 0., ..., 0., 0., 0.],\n",
       "       ...,\n",
       "       [0., 0., 0., ..., 0., 0., 0.],\n",
       "       [0., 0., 0., ..., 0., 0., 0.],\n",
       "       [0., 0., 0., ..., 0., 0., 0.]])"
      ]
     },
     "execution_count": 30,
     "metadata": {},
     "output_type": "execute_result"
    }
   ],
   "source": [
    "array1 = np.zeros((5908,5908))\n",
    "array1"
   ]
  },
  {
   "cell_type": "code",
   "execution_count": 31,
   "metadata": {
    "colab": {
     "base_uri": "https://localhost:8080/"
    },
    "id": "a0u33gZ8vz8x",
    "outputId": "df158c12-c71b-43ed-d8b0-e2f7d491a8df"
   },
   "outputs": [
    {
     "data": {
      "text/plain": [
       "array([[0.        , 0.        , 0.00012746, ..., 0.00025894, 0.00010571,\n",
       "        0.00012574],\n",
       "       [0.        , 0.        , 0.00015066, ..., 0.00014429, 0.00013645,\n",
       "        0.00016144],\n",
       "       [0.        , 0.        , 0.        , ..., 0.        , 0.        ,\n",
       "        0.        ],\n",
       "       ...,\n",
       "       [0.        , 0.        , 0.        , ..., 0.        , 0.        ,\n",
       "        0.        ],\n",
       "       [0.        , 0.        , 0.        , ..., 0.        , 0.        ,\n",
       "        0.        ],\n",
       "       [0.        , 0.        , 0.        , ..., 0.        , 0.        ,\n",
       "        0.        ]])"
      ]
     },
     "execution_count": 31,
     "metadata": {},
     "output_type": "execute_result"
    }
   ],
   "source": [
    "for i in range(len(df)):\n",
    "  array1[df.loc[i,'Rowvalue'], df.loc[i,'Columnvalue']] = df.loc[i,'Values']\n",
    "\n",
    "array1"
   ]
  },
  {
   "cell_type": "code",
   "execution_count": 32,
   "metadata": {
    "colab": {
     "base_uri": "https://localhost:8080/"
    },
    "id": "_2JpGYj9y10e",
    "outputId": "79a70cda-8ad2-4e82-d62a-aa890a6cfb90"
   },
   "outputs": [
    {
     "data": {
      "text/plain": [
       "0.0"
      ]
     },
     "execution_count": 32,
     "metadata": {},
     "output_type": "execute_result"
    }
   ],
   "source": [
    "array1[0,0]"
   ]
  },
  {
   "cell_type": "code",
   "execution_count": 33,
   "metadata": {
    "colab": {
     "base_uri": "https://localhost:8080/"
    },
    "id": "0vx5jsol7eA9",
    "outputId": "a9dbbc46-3ac3-41d3-f1b2-d30bc7b40ad1"
   },
   "outputs": [
    {
     "data": {
      "text/plain": [
       "array([[1.00000000e-08, 1.00000000e-08, 1.27458757e-04, ...,\n",
       "        2.58940564e-04, 1.05707536e-04, 1.25740324e-04],\n",
       "       [1.00000000e-08, 1.00000000e-08, 1.50657485e-04, ...,\n",
       "        1.44287907e-04, 1.36446471e-04, 1.61441027e-04],\n",
       "       [1.00000000e-08, 1.00000000e-08, 1.00000000e-08, ...,\n",
       "        1.00000000e-08, 1.00000000e-08, 1.00000000e-08],\n",
       "       ...,\n",
       "       [1.00000000e-08, 1.00000000e-08, 1.00000000e-08, ...,\n",
       "        1.00000000e-08, 1.00000000e-08, 1.00000000e-08],\n",
       "       [1.00000000e-08, 1.00000000e-08, 1.00000000e-08, ...,\n",
       "        1.00000000e-08, 1.00000000e-08, 1.00000000e-08],\n",
       "       [1.00000000e-08, 1.00000000e-08, 1.00000000e-08, ...,\n",
       "        1.00000000e-08, 1.00000000e-08, 1.00000000e-08]])"
      ]
     },
     "execution_count": 33,
     "metadata": {},
     "output_type": "execute_result"
    }
   ],
   "source": [
    "array1[array1 == 0.0] = 0.00000001\n",
    "array1"
   ]
  },
  {
   "cell_type": "code",
   "execution_count": 34,
   "metadata": {
    "colab": {
     "base_uri": "https://localhost:8080/"
    },
    "id": "uv_-mKnd7y9N",
    "outputId": "b48a06af-5731-4bb2-c1c7-b3a4770c7ac1"
   },
   "outputs": [
    {
     "data": {
      "text/plain": [
       "(5908, 5908)"
      ]
     },
     "execution_count": 34,
     "metadata": {},
     "output_type": "execute_result"
    }
   ],
   "source": [
    "array1.shape"
   ]
  },
  {
   "cell_type": "code",
   "execution_count": 35,
   "metadata": {
    "id": "6OGhdIgUC_Yw"
   },
   "outputs": [],
   "source": [
    "import csv\n",
    "\n",
    "a = array1\n",
    "\n",
    "with open(\"new_file.csv\",\"w+\") as my_csv:\n",
    "    csvWriter = csv.writer(my_csv,delimiter=',')\n",
    "    csvWriter.writerows(a)"
   ]
  },
  {
   "cell_type": "code",
   "execution_count": null,
   "metadata": {},
   "outputs": [],
   "source": []
  }
 ],
 "metadata": {
  "accelerator": "GPU",
  "colab": {
   "gpuType": "T4",
   "provenance": []
  },
  "gpuClass": "standard",
  "kernelspec": {
   "display_name": "Python 3 (ipykernel)",
   "language": "python",
   "name": "python3"
  },
  "language_info": {
   "codemirror_mode": {
    "name": "ipython",
    "version": 3
   },
   "file_extension": ".py",
   "mimetype": "text/x-python",
   "name": "python",
   "nbconvert_exporter": "python",
   "pygments_lexer": "ipython3",
   "version": "3.9.7"
  }
 },
 "nbformat": 4,
 "nbformat_minor": 1
}
